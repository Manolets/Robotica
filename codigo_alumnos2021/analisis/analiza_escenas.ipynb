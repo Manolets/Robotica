{
 "cells": [
  {
   "cell_type": "code",
   "execution_count": 1,
   "metadata": {
    "collapsed": true,
    "pycharm": {
     "name": "#%%\n"
    }
   },
   "outputs": [],
   "source": [
    "import numpy as np\n",
    "import cv2\n",
    "from time import sleep"
   ]
  },
  {
   "cell_type": "code",
   "execution_count": 87,
   "outputs": [
    {
     "name": "stderr",
     "output_type": "stream",
     "text": [
      "/Users/manuel/.pyenv/versions/3.7.12/lib/python3.7/site-packages/ipykernel_launcher.py:10: VisibleDeprecationWarning: Creating an ndarray from ragged nested sequences (which is a list-or-tuple of lists-or-tuples-or ndarrays with different lengths or shapes) is deprecated. If you meant to do this, you must specify 'dtype=object' when creating the ndarray.\n",
      "  # Remove the CWD from sys.path while we load stuff.\n"
     ]
    }
   ],
   "source": [
    "def extract_contours(path):\n",
    "\timg = cv2.imread(path)\n",
    "\tmaskim = cv2.inRange(img, (0, 0, 200), (255, 255, 255))\n",
    "\timg[maskim != 0] = [0, 255, 0]\n",
    "\tlines = cv2.bitwise_not(img, mask=cv2.inRange(img, (200, 0, 0), (255, 255, 255)))\n",
    "\tblurrim = cv2.GaussianBlur(lines, (13, 13), 0)\n",
    "\tcan_edgesim = cv2.Canny(blurrim, 100, 200)\n",
    "\n",
    "\tcontoursim, hierarchy = cv2.findContours(can_edgesim, cv2.RETR_TREE, cv2.CHAIN_APPROX_SIMPLE)\n",
    "\tcontoursim = np.array(contoursim)\n",
    "\tcontoursim = contoursim[np.array([cv2.arcLength(c, False) for c in contoursim]) > 200]\n",
    "\n",
    "\tepsilonsim = [0.1 * cv2.arcLength(contour, True) for contour in contoursim]\n",
    "\tapproxsim = [cv2.approxPolyDP(contour, epsilon, True) for contour, epsilon in zip(contours, epsilonsim)]\n",
    "\treturn approxsim\n",
    "\n",
    "recta = extract_contours('recta.png')\n",
    "curvad = extract_contours('curvad.png')\n",
    "curvai = extract_contours('curvai.png')\n",
    "bifurcacion = extract_contours('bifurcacion.png')\n",
    "interseccion = extract_contours('interseccion.png')\n",
    "intersecciont = extract_contours('intersecciont.png')\n",
    "incorporacion = extract_contours('incorporacion.png')\n",
    "\n",
    "nombre_escenas = ['recta', 'curvad', 'curvai', 'bifurcacion', 'intersecciont', 'incorporacion', 'interseccion']\n",
    "escenas = [recta, curvad, curvai, bifurcacion, intersecciont, incorporacion, interseccion]"
   ],
   "metadata": {
    "collapsed": false,
    "pycharm": {
     "name": "#%%\n"
    }
   }
  },
  {
   "cell_type": "code",
   "execution_count": 50,
   "outputs": [],
   "source": [
    "def hamming_distance(s1, s2):\n",
    "\tres = 0\n",
    "\tfor i in range(min(len(s1), len(s2))):\n",
    "\t\ts1_bits = np.unpackbits(np.array(s1[i], dtype=np.uint8))\n",
    "\t\ts2_bits = np.unpackbits(np.array(s2[i], dtype=np.uint8))\n",
    "\t\tres += np.bitwise_xor(s1_bits, s2_bits).sum()\n",
    "\treturn res"
   ],
   "metadata": {
    "collapsed": false,
    "pycharm": {
     "name": "#%%\n"
    }
   }
  },
  {
   "cell_type": "code",
   "execution_count": 146,
   "outputs": [
    {
     "name": "stderr",
     "output_type": "stream",
     "text": [
      "/Users/manuel/.pyenv/versions/3.7.12/lib/python3.7/site-packages/ipykernel_launcher.py:22: VisibleDeprecationWarning: Creating an ndarray from ragged nested sequences (which is a list-or-tuple of lists-or-tuples-or ndarrays with different lengths or shapes) is deprecated. If you meant to do this, you must specify 'dtype=object' when creating the ndarray.\n"
     ]
    }
   ],
   "source": [
    "vid = cv2.VideoCapture('../segmentacion/video4.avi')\n",
    "while True:\n",
    "\tframe = vid.read()[1]\n",
    "\n",
    "\tmask = cv2.inRange(frame, (0, 0, 200), (255, 255, 255))\n",
    "\tframe[mask != 0] = [0, 255, 0]\n",
    "\n",
    "\tframe[:, 0:4, :] = [255, 0, 0]\n",
    "\tframe[:, -4:, :] = [255, 0, 0]\n",
    "\tframe[0:4, :, :] = [255, 0, 0]\n",
    "\tframe[-4:, :, :] = [255, 0, 0]\n",
    "\n",
    "\t# cv2.imshow('Video', frame)\n",
    "\tblurr = cv2.GaussianBlur(frame, (25, 25), 0)\n",
    "\tcan_edges = cv2.Canny(blurr, 100, 200)\n",
    "\t# can_edges[:,0] = 0\n",
    "\t# can_edges[:,-1] = 0\n",
    "\t# can_edges[0,:] = 0\n",
    "\t# can_edges[-1,:] = 0\n",
    "\n",
    "\tcontours, hier = cv2.findContours(can_edges.copy(), cv2.RETR_EXTERNAL, cv2.CHAIN_APPROX_SIMPLE)\n",
    "\tcontours = np.array(contours)\n",
    "\tcontours = contours[np.array([cv2.arcLength(c, False) for c in contours]) > 200]\n",
    "\tcontours = contours[np.array([cv2.contourArea(c) for c in contours]) > 0]\n",
    "\tcv2.drawContours(frame, contours, -1, (255, 255, 255), 4)\n",
    "\n",
    "\tif  len(contours) == 2:\n",
    "\t\tM = cv2.moments(contours[0])\n",
    "\t\tcX0 = int(M[\"m10\"] / (M[\"m00\"] +1))\n",
    "\t\tcY0 = int(M[\"m01\"] / (M[\"m00\"] +1))\n",
    "\n",
    "\t\tM = cv2.moments(contours[1])\n",
    "\t\tcX1 = int(M[\"m10\"] / (M[\"m00\"] +1))\n",
    "\t\tcY1 = int(M[\"m01\"] / (M[\"m00\"] +1))\n",
    "\t\torder = cY0 < cY1\n",
    "\t\tbigger = cv2.contourArea(contours[0]) > cv2.contourArea(contours[1]) + 600\n",
    "\t\tsmaler = cv2.contourArea(contours[0]) < cv2.contourArea(contours[1]) - 600\n",
    "\n",
    "\t\tif bigger and order or smaler and not order:\n",
    "\t\t\tcv2.putText(frame, 'curvad', (10, 30), cv2.FONT_HERSHEY_SIMPLEX, 1, (0,0,0), 2)\n",
    "\t\tif smaler and order or bigger and not order:\n",
    "\t\t\tcv2.putText(frame, 'curvai', (10, 30), cv2.FONT_HERSHEY_SIMPLEX, 1, (0,0,0), 2)\n",
    "\t\telse:\n",
    "\t\t\tcv2.putText(frame, 'recta', (10, 30), cv2.FONT_HERSHEY_SIMPLEX, 1, (0,0,0), 2)\n",
    "\telif len(contours) == 3:\n",
    "\t\tcontours = sorted(contours, key=lambda c: cv2.contourArea(c))\n",
    "\n",
    "\t\tM = cv2.moments(contours[0])\n",
    "\t\tcX0 = int(M[\"m10\"] / (M[\"m00\"] +1))\n",
    "\t\tcY0 = int(M[\"m01\"] / (M[\"m00\"] +1))\n",
    "\n",
    "\t\tM = cv2.moments(contours[1])\n",
    "\t\tcX1 = int(M[\"m10\"] / (M[\"m00\"] +1))\n",
    "\t\tcY1 = int(M[\"m01\"] / (M[\"m00\"] +1))\n",
    "\n",
    "\t\tM = cv2.moments(contours[2])\n",
    "\t\tcX2 = int(M[\"m10\"] / (M[\"m00\"] +1))\n",
    "\t\tcY2 = int(M[\"m01\"] / (M[\"m00\"] +1))\n",
    "\n",
    "\t\tif cY2 > cY1 and cY2 > cY0:\n",
    "\t\t\tcv2.putText(frame, 'interseccionT', (10, 30), cv2.FONT_HERSHEY_SIMPLEX, 1, (0,0,0), 2)\n",
    "\t\telse:\n",
    "\t\t\tcv2.putText(frame, 'bifurcacion', (10, 30), cv2.FONT_HERSHEY_SIMPLEX, 1, (0,0,0), 2)\n",
    "\telif len(contours) == 4:\n",
    "\t\tcv2.putText(frame, 'intersecciont', (10, 30), cv2.FONT_HERSHEY_SIMPLEX, 1, (0,0,0), 2)\n",
    "\n",
    "\tcv2.imshow('Video', frame)\n",
    "\t# cv2.imshow('Canny', can_edges)\n",
    "\tkey = cv2.waitKey(1) & 0xFF\n",
    "\tif key == ord('q'):\n",
    "\t\tbreak\n",
    "\tif key == ord('s'):\n",
    "\t\tsleep(1)\n",
    "\n",
    "vid.release()\n",
    "cv2.destroyAllWindows()"
   ],
   "metadata": {
    "collapsed": false,
    "pycharm": {
     "name": "#%%\n"
    }
   }
  },
  {
   "cell_type": "code",
   "execution_count": 112,
   "outputs": [
    {
     "name": "stderr",
     "output_type": "stream",
     "text": [
      "/Users/manuel/.pyenv/versions/3.7.12/lib/python3.7/site-packages/ipykernel_launcher.py:2: VisibleDeprecationWarning: Creating an ndarray from ragged nested sequences (which is a list-or-tuple of lists-or-tuples-or ndarrays with different lengths or shapes) is deprecated. If you meant to do this, you must specify 'dtype=object' when creating the ndarray.\n",
      "  \n"
     ]
    },
    {
     "ename": "KeyboardInterrupt",
     "evalue": "",
     "output_type": "error",
     "traceback": [
      "\u001B[0;31m---------------------------------------------------------------------------\u001B[0m",
      "\u001B[0;31mKeyboardInterrupt\u001B[0m                         Traceback (most recent call last)",
      "\u001B[0;32m/var/folders/l0/10bsjl7139x2skb95m9bvghr0000gn/T/ipykernel_3615/1847975021.py\u001B[0m in \u001B[0;36m<module>\u001B[0;34m\u001B[0m\n\u001B[1;32m      9\u001B[0m \u001B[0;34m\u001B[0m\u001B[0m\n\u001B[1;32m     10\u001B[0m \u001B[0mcv2\u001B[0m\u001B[0;34m.\u001B[0m\u001B[0mimshow\u001B[0m\u001B[0;34m(\u001B[0m\u001B[0;34m'Img'\u001B[0m\u001B[0;34m,\u001B[0m \u001B[0mframe\u001B[0m\u001B[0;34m)\u001B[0m\u001B[0;34m\u001B[0m\u001B[0;34m\u001B[0m\u001B[0m\n\u001B[0;32m---> 11\u001B[0;31m \u001B[0mcv2\u001B[0m\u001B[0;34m.\u001B[0m\u001B[0mwaitKey\u001B[0m\u001B[0;34m(\u001B[0m\u001B[0;34m)\u001B[0m\u001B[0;34m\u001B[0m\u001B[0;34m\u001B[0m\u001B[0m\n\u001B[0m\u001B[1;32m     12\u001B[0m \u001B[0mcv2\u001B[0m\u001B[0;34m.\u001B[0m\u001B[0mdestroyAllWindows\u001B[0m\u001B[0;34m(\u001B[0m\u001B[0;34m)\u001B[0m\u001B[0;34m\u001B[0m\u001B[0;34m\u001B[0m\u001B[0m\n",
      "\u001B[0;31mKeyboardInterrupt\u001B[0m: "
     ]
    }
   ],
   "source": [
    "contours, hier = cv2.findContours(can_edges.copy(), cv2.RETR_LIST, cv2.CHAIN_APPROX_SIMPLE)\n",
    "contours = np.array(contours)\n",
    "contours = contours[np.array([cv2.arcLength(c, False) for c in contours]) > 350]\n",
    "\n",
    "epsilons = np.array([0.01 * cv2.arcLength(count, True) for count in contours])\n",
    "aproximations = np.array([cv2.approxPolyDP(contours[i], epsilons[i], True) for i in range(len(contours))])\n",
    "\n",
    "cv2.drawContours(frame, contours, -1, (0, 0, 0), 2)\n",
    "\n",
    "cv2.imshow('Img', frame)\n",
    "cv2.waitKey()\n",
    "cv2.destroyAllWindows()"
   ],
   "metadata": {
    "collapsed": false,
    "pycharm": {
     "name": "#%%\n"
    }
   }
  },
  {
   "cell_type": "code",
   "execution_count": 8,
   "outputs": [],
   "source": [
    "blurr = cv2.GaussianBlur(frame, (19, 19), 0)\n",
    "can_edges = cv2.Canny(blurr, 100, 200)\n",
    "\n",
    "cv2.imshow('Canny', can_edges)\n",
    "cv2.waitKey()\n",
    "cv2.destroyAllWindows()"
   ],
   "metadata": {
    "collapsed": false,
    "pycharm": {
     "name": "#%%\n"
    }
   }
  },
  {
   "cell_type": "code",
   "execution_count": null,
   "outputs": [],
   "source": [
    "orb = cv2.ORB_create()\n",
    "kp = cv2.KeyPoint()"
   ],
   "metadata": {
    "collapsed": false,
    "pycharm": {
     "name": "#%%\n"
    }
   }
  }
 ],
 "metadata": {
  "kernelspec": {
   "display_name": "Python 3",
   "language": "python",
   "name": "python3"
  },
  "language_info": {
   "codemirror_mode": {
    "name": "ipython",
    "version": 2
   },
   "file_extension": ".py",
   "mimetype": "text/x-python",
   "name": "python",
   "nbconvert_exporter": "python",
   "pygments_lexer": "ipython2",
   "version": "2.7.6"
  }
 },
 "nbformat": 4,
 "nbformat_minor": 0
}