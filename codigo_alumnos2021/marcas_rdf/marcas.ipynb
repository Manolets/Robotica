{
 "cells": [
  {
   "cell_type": "code",
   "execution_count": 1,
   "metadata": {
    "collapsed": true,
    "pycharm": {
     "name": "#%%\n"
    }
   },
   "outputs": [],
   "source": [
    "import cv2\n",
    "import numpy as np\n",
    "import pandas as pd"
   ]
  },
  {
   "cell_type": "code",
   "execution_count": 2,
   "outputs": [],
   "source": [
    "def get_image_from_file(file_name):\n",
    "\timg = cv2.imread(file_name)\n",
    "\tmaskim = cv2.inRange(img, (0, 0, 250), (0, 0, 255))\n",
    "\timg[maskim == 0] = [255, 255, 255]\n",
    "\t# img = cv2.GaussianBlur(img, (5, 5), 0)\n",
    "\treturn img"
   ],
   "metadata": {
    "collapsed": false,
    "pycharm": {
     "name": "#%%\n"
    }
   }
  },
  {
   "cell_type": "code",
   "execution_count": null,
   "outputs": [],
   "source": [
    "flechas = [get_image_from_file('marcas-capturasStage/Flecha1.png'),\n",
    "           get_image_from_file('marcas-capturasStage/Flecha2.png'),\n",
    "           get_image_from_file('marcas-capturasStage/Flecha3.png'),\n",
    "           get_image_from_file('marcas-capturasStage/Flecha4.png'),\n",
    "           get_image_from_file('marcas-capturasStage/Flecha5.png')]\n",
    "\n",
    "man = [get_image_from_file('marcas-capturasStage/man-1.png'),\n",
    "       get_image_from_file('marcas-capturasStage/man-2.png'),\n",
    "       get_image_from_file('marcas-capturasStage/man-3.png'),\n",
    "       get_image_from_file('marcas-capturasStage/man-4.png'),\n",
    "       get_image_from_file('marcas-capturasStage/man-5.png'),\n",
    "       get_image_from_file('marcas-capturasStage/man-6.png'),\n",
    "       get_image_from_file('marcas-capturasStage/man-7.png')]\n",
    "\n",
    "stairs = [get_image_from_file('marcas-capturasStage/stairs-1.png'),\n",
    "          get_image_from_file('marcas-capturasStage/stairs-2.png'),\n",
    "          get_image_from_file('marcas-capturasStage/stairs-3.png'),\n",
    "          get_image_from_file('marcas-capturasStage/stairs-4.png'),\n",
    "          get_image_from_file('marcas-capturasStage/stairs-5.png'),\n",
    "          get_image_from_file('marcas-capturasStage/stairs-6.png'),\n",
    "          get_image_from_file('marcas-capturasStage/stairs-7.png')]\n",
    "\n",
    "telephone = [get_image_from_file('marcas-capturasStage/telephone-1.png'),\n",
    "             get_image_from_file('marcas-capturasStage/telephone-2.png'),\n",
    "             get_image_from_file('marcas-capturasStage/telephone-3.png'),\n",
    "             get_image_from_file('marcas-capturasStage/telephone-4.png'),\n",
    "             get_image_from_file('marcas-capturasStage/telephone-5.png'),\n",
    "             get_image_from_file('marcas-capturasStage/telephone-6.png'),\n",
    "             get_image_from_file('marcas-capturasStage/telephone-7.png')]\n",
    "\n",
    "woman = [get_image_from_file('marcas-capturasStage/woman-1.png'),\n",
    "         get_image_from_file('marcas-capturasStage/woman-2.png'),\n",
    "         get_image_from_file('marcas-capturasStage/woman-3.png'),\n",
    "         get_image_from_file('marcas-capturasStage/woman-4.png'),\n",
    "         get_image_from_file('marcas-capturasStage/woman-5.png'),\n",
    "         get_image_from_file('marcas-capturasStage/woman-6.png'),\n",
    "         get_image_from_file('marcas-capturasStage/woman-7.png')]\n",
    "\n",
    "# cv2.imshow('Sample', flechas[0])\n",
    "# cv2.waitKey(0)\n",
    "# cv2.destroyAllWindows()"
   ],
   "metadata": {
    "collapsed": false,
    "pycharm": {
     "name": "#%%\n"
    }
   }
  },
  {
   "cell_type": "code",
   "execution_count": null,
   "outputs": [],
   "source": [
    "from keras_preprocessing.image import ImageDataGenerator\n",
    "\n",
    "datagen = ImageDataGenerator(\n",
    "    rotation_range=40,\n",
    "    rescale=1/255.0,\n",
    "    horizontal_flip=True,\n",
    "    width_shift_range=0.2, height_shift_range=0.2,\n",
    "    shear_range=0.2,\n",
    "    zoom_range=0.2,\n",
    "    brightness_range=(0.5, 1.0)\n",
    ")\n",
    "\n",
    "train_generator = datagen.flow_from_directory(\n",
    "    \"marcas-capturasStage/\",\n",
    "    target_size=(100, 100),\n",
    "    batch_size=256,\n",
    "    seed=1234\n",
    ")\n"
   ],
   "metadata": {
    "collapsed": false,
    "pycharm": {
     "name": "#%%\n"
    }
   }
  },
  {
   "cell_type": "code",
   "execution_count": null,
   "outputs": [],
   "source": [
    "def extract_features(img):\n",
    "\timg = cv2.cvtColor(img.copy(), cv2.COLOR_RGBA2GRAY)\n",
    "\timg = img - 255\n",
    "\n",
    "\tcont_list_im, hier = cv2.findContours(img, cv2.RETR_TREE, cv2.CHAIN_APPROX_NONE)\n",
    "\n",
    "\t# cont_list_im = np.array(cont_list_im)\n",
    "\t# cont_list_im = cont_list_im[np.array([cv2.contourArea(conto) for conto in cont_list_im]) > 10]\n",
    "\torb = cv2.ORB_create()\n",
    "\tellip = cv2.fitEllipse(cont_list_im[0])\n",
    "\tcen, ejes, angulo = np.array(ellip[0]), np.array(ellip[1]), ellip[2]\n",
    "\tkp = cv2.KeyPoint(cen[0], cen[1], np.mean(ejes) * 1.3, angulo - 90)\n",
    "\tlkp, des = orb.compute(img, [kp])\n",
    "\n",
    "\treturn cont_list_im, ellip, lkp, des"
   ],
   "metadata": {
    "collapsed": false,
    "pycharm": {
     "name": "#%%\n"
    }
   }
  },
  {
   "cell_type": "code",
   "execution_count": null,
   "outputs": [],
   "source": [
    "sample = flechas[0].copy()\n",
    "\n",
    "contours, ellipse, lkeyp, dess = extract_features(sample)\n",
    "\n",
    "for cont in contours:\n",
    "\tcv2.drawContours(sample, cont, -1, (np.random.randint(0, 255), np.random.randint(0, 255), 0), 3)\n",
    "\n",
    "cv2.ellipse(sample, ellipse, (255, 0, 0), 3)\n",
    "cv2.drawKeypoints(sample, lkeyp, sample, (0, 255, 0), cv2.DRAW_MATCHES_FLAGS_DRAW_RICH_KEYPOINTS)\n",
    "cv2.imshow('sample', sample)\n",
    "cv2.waitKey(0)\n",
    "cv2.destroyAllWindows()"
   ],
   "metadata": {
    "collapsed": false,
    "pycharm": {
     "name": "#%%\n"
    }
   }
  },
  {
   "cell_type": "code",
   "execution_count": null,
   "outputs": [],
   "source": [
    "columns = ['area', 'momentx', 'momenty', 'label', 'm00', 'm10', 'm01', 'm20', 'm11', 'm02', 'm30', 'm21', 'm12', 'm03',\n",
    "           'mu20', 'mu11', 'mu02', 'mu30', 'mu21', 'mu12', 'mu03', 'nu20', 'nu11', 'nu02', 'nu30', 'nu21', 'nu12',\n",
    "           'nu03']\n",
    "df = pd.DataFrame(columns=columns)\n",
    "\n",
    "for arrow in flechas:\n",
    "\tcontours, ellipse, lkeyp, dess = extract_features(arrow.copy())\n",
    "\tM_1 = cv2.moments(contours[0])\n",
    "\n",
    "\tif M_1[\"m00\"] == 0: M_1[\"m00\", \"m01\"] = 1\n",
    "\tx = int(M_1[\"m10\"] / M_1[\"m00\"])\n",
    "\ty = int(M_1[\"m01\"] / M_1[\"m00\"])\n",
    "\tdata = {'momentx': x, 'momenty': y, 'area': cv2.contourArea(contours[0]), 'label': 0}\n",
    "\tdata.update(M_1)\n",
    "\tdf = df.append(data, ignore_index=True)\n",
    "\n",
    "for m in man:\n",
    "\tcontours, ellipse, lkeyp, dess = extract_features(m)\n",
    "\tM_1 = cv2.moments(contours[0])\n",
    "\tif M_1[\"m00\"] == 0: M_1[\"m00\", \"m01\"] = 1\n",
    "\tx = int(M_1[\"m10\"] / M_1[\"m00\"])\n",
    "\ty = int(M_1[\"m01\"] / M_1[\"m00\"])\n",
    "\tdata = {'momentx': x, 'momenty': y, 'area': cv2.contourArea(contours[0]), 'label': 1}\n",
    "\tdata.update(M_1)\n",
    "\tdf = df.append(data, ignore_index=True)\n",
    "\n",
    "for stair in stairs:\n",
    "\tcontours, ellipse, lkeyp, dess = extract_features(stair)\n",
    "\tM_1 = cv2.moments(contours[0])\n",
    "\tif M_1[\"m00\"] == 0: M_1[\"m00\", \"m01\"] = 1\n",
    "\tx = int(M_1[\"m10\"] / M_1[\"m00\"])\n",
    "\ty = int(M_1[\"m01\"] / M_1[\"m00\"])\n",
    "\tdata = {'momentx': x, 'momenty': y, 'area': cv2.contourArea(contours[0]), 'label': 2}\n",
    "\tdata.update(M_1)\n",
    "\tdf = df.append(data, ignore_index=True)\n",
    "\n",
    "for t in telephone:\n",
    "\tcontours, ellipse, lkeyp, dess = extract_features(t)\n",
    "\tM_1 = cv2.moments(contours[0])\n",
    "\tif M_1[\"m00\"] == 0: M_1[\"m00\", \"m01\"] = 1\n",
    "\tx = int(M_1[\"m10\"] / M_1[\"m00\"])\n",
    "\ty = int(M_1[\"m01\"] / M_1[\"m00\"])\n",
    "\tdata = {'momentx': x, 'momenty': y, 'area': cv2.contourArea(contours[0]), 'label': 3}\n",
    "\tdata.update(M_1)\n",
    "\tdf = df.append(data, ignore_index=True)\n",
    "\n",
    "for w in woman:\n",
    "\tcontours, ellipse, lkeyp, dess = extract_features(w)\n",
    "\tM_1 = cv2.moments(contours[0])\n",
    "\tif M_1[\"m00\"] == 0: M_1[\"m00\", \"m01\"] = 1\n",
    "\tx = int(M_1[\"m10\"] / M_1[\"m00\"])\n",
    "\ty = int(M_1[\"m01\"] / M_1[\"m00\"])\n",
    "\tdata = {'momentx': x, 'momenty': y, 'area': cv2.contourArea(contours[0]), 'label': 4}\n",
    "\tdata.update(M_1)\n",
    "\tdf = df.append(data, ignore_index=True)"
   ],
   "metadata": {
    "collapsed": false,
    "pycharm": {
     "name": "#%%\n"
    }
   }
  },
  {
   "cell_type": "code",
   "execution_count": null,
   "outputs": [],
   "source": [
    "df.describe()"
   ],
   "metadata": {
    "collapsed": false,
    "pycharm": {
     "name": "#%%\n"
    }
   }
  },
  {
   "cell_type": "code",
   "execution_count": null,
   "outputs": [],
   "source": [
    "from sklearn.decomposition import PCA\n",
    "import matplotlib.pyplot as plt\n",
    "\n",
    "n_components = 28\n",
    "pca = PCA(n_components=n_components, svd_solver=\"randomized\", whiten=True)\n",
    "pca.fit(df)\n",
    "\n",
    "explained_var = []\n",
    "for i in range(1, 28):\n",
    "\texplained_var.append(np.sum(pca.explained_variance_ratio_[:i]))\n",
    "\n",
    "plt.figure()\n",
    "plt.xlim(1, 28)\n",
    "plt.ylim(0.8, 1.01)\n",
    "plt.xlabel('Nº de componentes')\n",
    "plt.ylabel('Varianza explicada')\n",
    "plt.plot(range(1, 28), explained_var)\n",
    "print(explained_var[:4])"
   ],
   "metadata": {
    "collapsed": false,
    "pycharm": {
     "name": "#%%\n"
    }
   }
  },
  {
   "cell_type": "code",
   "execution_count": null,
   "outputs": [],
   "source": [
    "pca = PCA(n_components=4, svd_solver=\"randomized\", whiten=True).fit(df.drop(['label'], axis=1))\n",
    "dfPCA = pca.transform(df.drop(['label'], axis=1))"
   ],
   "metadata": {
    "collapsed": false,
    "pycharm": {
     "name": "#%%\n"
    }
   }
  },
  {
   "cell_type": "code",
   "execution_count": null,
   "outputs": [],
   "source": [
    "df.columns"
   ],
   "metadata": {
    "collapsed": false,
    "pycharm": {
     "name": "#%%\n"
    }
   }
  },
  {
   "cell_type": "code",
   "execution_count": null,
   "outputs": [],
   "source": [
    "from sklearn.neighbors import KNeighborsClassifier\n",
    "\n",
    "clf = KNeighborsClassifier(n_neighbors=3)\n",
    "clf.fit(dfPCA, df['label'])"
   ],
   "metadata": {
    "collapsed": false,
    "pycharm": {
     "name": "#%%\n"
    }
   }
  },
  {
   "cell_type": "code",
   "execution_count": null,
   "outputs": [],
   "source": [
    "import joblib\n",
    "\n",
    "joblib.dump(clf, 'rec_marcas_model.jl')\n",
    "joblib.dump(pca, 'rec_marcas_pca.jl')"
   ],
   "metadata": {
    "collapsed": false,
    "pycharm": {
     "name": "#%%\n"
    }
   }
  },
  {
   "cell_type": "code",
   "execution_count": null,
   "outputs": [],
   "source": [
    "import os\n",
    "\n",
    "print(os.getcwd())"
   ],
   "metadata": {
    "collapsed": false,
    "pycharm": {
     "name": "#%%\n"
    }
   }
  },
  {
   "cell_type": "code",
   "execution_count": 29,
   "outputs": [
    {
     "data": {
      "text/plain": "Index(['area', 'momentx', 'momenty', 'label', 'm00', 'm10', 'm01', 'm20',\n       'm11', 'm02', 'm30', 'm21', 'm12', 'm03', 'mu20', 'mu11', 'mu02',\n       'mu30', 'mu21', 'mu12', 'mu03', 'nu20', 'nu11', 'nu02', 'nu30', 'nu21',\n       'nu12', 'nu03'],\n      dtype='object')"
     },
     "execution_count": 29,
     "metadata": {},
     "output_type": "execute_result"
    }
   ],
   "source": [
    "df.columns"
   ],
   "metadata": {
    "collapsed": false,
    "pycharm": {
     "name": "#%%\n"
    }
   }
  },
  {
   "cell_type": "code",
   "execution_count": 23,
   "outputs": [
    {
     "data": {
      "text/plain": "KNeighborsClassifier(n_neighbors=3)"
     },
     "execution_count": 23,
     "metadata": {},
     "output_type": "execute_result"
    }
   ],
   "source": [
    "from sklearn.neighbors import KNeighborsClassifier\n",
    "\n",
    "clf = KNeighborsClassifier(n_neighbors=3)\n",
    "clf.fit(dfPCA, df['label'])"
   ],
   "metadata": {
    "collapsed": false,
    "pycharm": {
     "name": "#%%\n"
    }
   }
  },
  {
   "cell_type": "code",
   "execution_count": 28,
   "outputs": [
    {
     "data": {
      "text/plain": "['rec_marcas_pca.jl']"
     },
     "execution_count": 28,
     "metadata": {},
     "output_type": "execute_result"
    }
   ],
   "source": [
    "import joblib\n",
    "\n",
    "joblib.dump(clf, 'rec_marcas_model.jl')\n",
    "joblib.dump(pca, 'rec_marcas_pca.jl')"
   ],
   "metadata": {
    "collapsed": false,
    "pycharm": {
     "name": "#%%\n"
    }
   }
  },
  {
   "cell_type": "code",
   "execution_count": 21,
   "outputs": [
    {
     "name": "stdout",
     "output_type": "stream",
     "text": [
      "/Users/manuel/Documents/Universidad/3/Robotica/practica1Robotica-v4.3/codigo_alumnos2021/marcas_rdf\n"
     ]
    }
   ],
   "source": [
    "import os\n",
    "\n",
    "print(os.getcwd())"
   ],
   "metadata": {
    "collapsed": false,
    "pycharm": {
     "name": "#%%\n"
    }
   }
  },
  {
   "cell_type": "code",
   "execution_count": 18,
   "outputs": [
    {
     "ename": "AttributeError",
     "evalue": "'NoneType' object has no attribute 'copy'",
     "output_type": "error",
     "traceback": [
      "\u001B[0;31m---------------------------------------------------------------------------\u001B[0m",
      "\u001B[0;31mAttributeError\u001B[0m                            Traceback (most recent call last)",
      "\u001B[0;32m/var/folders/l0/10bsjl7139x2skb95m9bvghr0000gn/T/ipykernel_76553/2498637081.py\u001B[0m in \u001B[0;36m<module>\u001B[0;34m\u001B[0m\n\u001B[1;32m      9\u001B[0m \u001B[0;32mwhile\u001B[0m \u001B[0;32mTrue\u001B[0m\u001B[0;34m:\u001B[0m\u001B[0;34m\u001B[0m\u001B[0;34m\u001B[0m\u001B[0m\n\u001B[1;32m     10\u001B[0m         \u001B[0mframeo\u001B[0m \u001B[0;34m=\u001B[0m \u001B[0mvid\u001B[0m\u001B[0;34m.\u001B[0m\u001B[0mread\u001B[0m\u001B[0;34m(\u001B[0m\u001B[0;34m)\u001B[0m\u001B[0;34m[\u001B[0m\u001B[0;36m1\u001B[0m\u001B[0;34m]\u001B[0m\u001B[0;34m\u001B[0m\u001B[0;34m\u001B[0m\u001B[0m\n\u001B[0;32m---> 11\u001B[0;31m         \u001B[0mframe\u001B[0m \u001B[0;34m=\u001B[0m \u001B[0mframeo\u001B[0m\u001B[0;34m.\u001B[0m\u001B[0mcopy\u001B[0m\u001B[0;34m(\u001B[0m\u001B[0;34m)\u001B[0m\u001B[0;34m\u001B[0m\u001B[0;34m\u001B[0m\u001B[0m\n\u001B[0m\u001B[1;32m     12\u001B[0m         \u001B[0mmaskframe\u001B[0m \u001B[0;34m=\u001B[0m \u001B[0mcv2\u001B[0m\u001B[0;34m.\u001B[0m\u001B[0minRange\u001B[0m\u001B[0;34m(\u001B[0m\u001B[0mframe\u001B[0m\u001B[0;34m,\u001B[0m \u001B[0;34m(\u001B[0m\u001B[0;36m0\u001B[0m\u001B[0;34m,\u001B[0m \u001B[0;36m0\u001B[0m\u001B[0;34m,\u001B[0m \u001B[0;36m100\u001B[0m\u001B[0;34m)\u001B[0m\u001B[0;34m,\u001B[0m \u001B[0;34m(\u001B[0m\u001B[0;36m50\u001B[0m\u001B[0;34m,\u001B[0m \u001B[0;36m50\u001B[0m\u001B[0;34m,\u001B[0m \u001B[0;36m255\u001B[0m\u001B[0;34m)\u001B[0m\u001B[0;34m)\u001B[0m\u001B[0;34m\u001B[0m\u001B[0;34m\u001B[0m\u001B[0m\n\u001B[1;32m     13\u001B[0m         \u001B[0mframe\u001B[0m\u001B[0;34m[\u001B[0m\u001B[0mmaskframe\u001B[0m \u001B[0;34m==\u001B[0m \u001B[0;36m0\u001B[0m\u001B[0;34m]\u001B[0m \u001B[0;34m=\u001B[0m \u001B[0;34m[\u001B[0m\u001B[0;36m255\u001B[0m\u001B[0;34m,\u001B[0m \u001B[0;36m255\u001B[0m\u001B[0;34m,\u001B[0m \u001B[0;36m255\u001B[0m\u001B[0;34m]\u001B[0m\u001B[0;34m\u001B[0m\u001B[0;34m\u001B[0m\u001B[0m\n",
      "\u001B[0;31mAttributeError\u001B[0m: 'NoneType' object has no attribute 'copy'"
     ]
    }
   ],
   "source": [
    "vid = cv2.VideoCapture('proyectoRobotica-1920-line1-video-2020-04-20.avi')\n",
    "lables = ['flecha', 'man', 'stair', 'telephone', 'woman']\n",
    "\n",
    "width = int(vid.get(cv2.CAP_PROP_FRAME_WIDTH))\n",
    "height =  int(vid.get(cv2.CAP_PROP_FRAME_HEIGHT))\n",
    "fourcc = cv2.VideoWriter_fourcc(*'mp4v')\n",
    "video = cv2.VideoWriter('videoMarcas.avi', fourcc, 30, (width, height))\n",
    "\n",
    "while True:\n",
    "\tframeo = vid.read()[1]\n",
    "\tframe = frameo.copy()\n",
    "\tmaskframe = cv2.inRange(frame, (0, 0, 100), (50, 50, 255))\n",
    "\tframe[maskframe == 0] = [255, 255, 255]\n",
    "\n",
    "\ttry:\n",
    "\t\tcontours, ellipse, lkeyp, dess = extract_features(frame)\n",
    "\t\tif len(contours) != 1:\n",
    "\t\t\tcontours = contours[0] if cv2.contourArea(contours[0]) > cv2.contourArea(contours[1]) else contours[1]\n",
    "\t\tM_1 = cv2.moments(contours[0])\n",
    "\n",
    "\t\tif M_1[\"m00\"] == 0: M_1[\"m00\", \"m01\"] = 1\n",
    "\t\tx = int(M_1[\"m10\"] / M_1[\"m00\"])\n",
    "\t\ty = int(M_1[\"m01\"] / M_1[\"m00\"])\n",
    "\t\tdata = {'momentx': x, 'momenty': y, 'area': cv2.contourArea(contours[0])}\n",
    "\t\tdata.update(M_1)\n",
    "\t\todf = pd.DataFrame(columns=columns)\n",
    "\t\todf.drop(columns=['label'], inplace=True)\n",
    "\t\todf = odf.append(data, ignore_index=True)\n",
    "\t\tpredicted = clf.predict(odf)\n",
    "\t\tcv2.putText(frame, lables[int(predicted)], (30, 50), cv2.FONT_HERSHEY_SIMPLEX, 1, (0, 0, 255), 2)\n",
    "\t\tcv2.putText(frameo, lables[int(predicted)], (30, 50), cv2.FONT_HERSHEY_SIMPLEX, 1, (0, 0, 255), 2)\n",
    "\t\t# print(lables[int(predicted)])\n",
    "\texcept IndexError as e:\n",
    "\t\tcv2.putText(frameo, 'Nothing', (30, 50), cv2.FONT_HERSHEY_SIMPLEX, 1, (0, 0, 255), 2)\n",
    "\texcept Exception as e:\n",
    "\t\tcv2.putText(frameo, 'Nothing', (30, 50), cv2.FONT_HERSHEY_SIMPLEX, 1, (0, 0, 255), 2)\n",
    "\n",
    "\tcv2.imshow('frameo', frameo)\n",
    "\tcv2.imshow('frame', frame)\n",
    "\n",
    "\tvideo.write(np.uint8(frameo))\n",
    "\tvideo.write(np.uint8(frameo))\n",
    "\tvideo.write(np.uint8(frameo))\n",
    "\n",
    "\tcv2.destroyAllWindows()\n",
    "\n",
    "\tif cv2.waitKey(55) & 0xFF == ord('q'):\n",
    "\t\tbreak\n",
    "\n",
    "video.release()\n",
    "cv2.destroyAllWindows()"
   ],
   "metadata": {
    "collapsed": false,
    "pycharm": {
     "name": "#%%\n"
    }
   }
  },
  {
   "cell_type": "code",
   "execution_count": null,
   "outputs": [],
   "source": [],
   "metadata": {
    "collapsed": false,
    "pycharm": {
     "name": "#%%\n"
    }
   }
  }
 ],
 "metadata": {
  "kernelspec": {
   "display_name": "Python 3",
   "language": "python",
   "name": "python3"
  },
  "language_info": {
   "codemirror_mode": {
    "name": "ipython",
    "version": 2
   },
   "file_extension": ".py",
   "mimetype": "text/x-python",
   "name": "python",
   "nbconvert_exporter": "python",
   "pygments_lexer": "ipython2",
   "version": "2.7.6"
  }
 },
 "nbformat": 4,
 "nbformat_minor": 0
}