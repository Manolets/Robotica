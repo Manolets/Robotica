{
 "cells": [
  {
   "cell_type": "code",
   "execution_count": 1,
   "metadata": {
    "collapsed": true,
    "pycharm": {
     "name": "#%%\n"
    }
   },
   "outputs": [],
   "source": [
    "import cv2\n",
    "import numpy as np\n",
    "import pandas as pd"
   ]
  },
  {
   "cell_type": "code",
   "execution_count": 2,
   "outputs": [],
   "source": [
    "def get_image_from_file(file_name):\n",
    "\timg = cv2.imread(file_name)\n",
    "\tmaskim = cv2.inRange(img, (0, 0, 250), (0, 0, 255))\n",
    "\timg[maskim == 0] = [255, 255, 255]\n",
    "\t# img = cv2.GaussianBlur(img, (5, 5), 0)\n",
    "\treturn img"
   ],
   "metadata": {
    "collapsed": false,
    "pycharm": {
     "name": "#%%\n"
    }
   }
  },
  {
   "cell_type": "code",
   "execution_count": 3,
   "outputs": [],
   "source": [
    "flechas = [get_image_from_file('marcas-capturasStage/Flecha1.png'),\n",
    "           get_image_from_file('marcas-capturasStage/Flecha2.png'),\n",
    "           get_image_from_file('marcas-capturasStage/Flecha3.png'),\n",
    "           get_image_from_file('marcas-capturasStage/Flecha4.png')]\n",
    "\n",
    "man = [get_image_from_file('marcas-capturasStage/man-1.png'),\n",
    "       get_image_from_file('marcas-capturasStage/man-2.png'),\n",
    "       get_image_from_file('marcas-capturasStage/man-3.png'),\n",
    "       get_image_from_file('marcas-capturasStage/man-4.png'),\n",
    "       get_image_from_file('marcas-capturasStage/man-5.png'),\n",
    "       get_image_from_file('marcas-capturasStage/man-6.png'),\n",
    "       get_image_from_file('marcas-capturasStage/man-7.png')]\n",
    "\n",
    "stairs = [get_image_from_file('marcas-capturasStage/stairs-1.png'),\n",
    "          get_image_from_file('marcas-capturasStage/stairs-2.png'),\n",
    "          get_image_from_file('marcas-capturasStage/stairs-3.png'),\n",
    "          get_image_from_file('marcas-capturasStage/stairs-4.png'),\n",
    "          get_image_from_file('marcas-capturasStage/stairs-5.png'),\n",
    "          get_image_from_file('marcas-capturasStage/stairs-6.png'),\n",
    "          get_image_from_file('marcas-capturasStage/stairs-7.png')]\n",
    "\n",
    "telephone = [get_image_from_file('marcas-capturasStage/telephone-1.png'),\n",
    "             get_image_from_file('marcas-capturasStage/telephone-2.png'),\n",
    "             get_image_from_file('marcas-capturasStage/telephone-3.png'),\n",
    "             get_image_from_file('marcas-capturasStage/telephone-4.png'),\n",
    "             get_image_from_file('marcas-capturasStage/telephone-5.png'),\n",
    "             get_image_from_file('marcas-capturasStage/telephone-6.png'),\n",
    "             get_image_from_file('marcas-capturasStage/telephone-7.png')]\n",
    "\n",
    "woman = [get_image_from_file('marcas-capturasStage/woman-1.png'),\n",
    "         get_image_from_file('marcas-capturasStage/woman-2.png'),\n",
    "         get_image_from_file('marcas-capturasStage/woman-3.png'),\n",
    "         get_image_from_file('marcas-capturasStage/woman-4.png'),\n",
    "         get_image_from_file('marcas-capturasStage/woman-5.png'),\n",
    "         get_image_from_file('marcas-capturasStage/woman-6.png'),\n",
    "         get_image_from_file('marcas-capturasStage/woman-7.png')]\n",
    "\n",
    "# cv2.imshow('Sample', flechas[0])\n",
    "# cv2.waitKey(0)\n",
    "# cv2.destroyAllWindows()"
   ],
   "metadata": {
    "collapsed": false,
    "pycharm": {
     "name": "#%%\n"
    }
   }
  },
  {
   "cell_type": "code",
   "execution_count": 4,
   "outputs": [],
   "source": [
    "def extract_features(img):\n",
    "\timg = cv2.cvtColor(img.copy(), cv2.COLOR_RGBA2GRAY)\n",
    "\timg = img - 255\n",
    "\n",
    "\tcont_list_im, hier = cv2.findContours(img, cv2.RETR_TREE, cv2.CHAIN_APPROX_NONE)\n",
    "\n",
    "\t# cont_list_im = np.array(cont_list_im)\n",
    "\t# cont_list_im = cont_list_im[np.array([cv2.contourArea(conto) for conto in cont_list_im]) > 10]\n",
    "\torb = cv2.ORB_create()\n",
    "\tellip = cv2.fitEllipse(cont_list_im[0])\n",
    "\tcen, ejes, angulo = np.array(ellip[0]), np.array(ellip[1]), ellip[2]\n",
    "\tkp = cv2.KeyPoint(cen[0], cen[1], np.mean(ejes) * 1.3, angulo - 90)\n",
    "\tlkp, des = orb.compute(img, [kp])\n",
    "\n",
    "\treturn cont_list_im, ellip, lkp, des"
   ],
   "metadata": {
    "collapsed": false,
    "pycharm": {
     "name": "#%%\n"
    }
   }
  },
  {
   "cell_type": "code",
   "execution_count": 5,
   "outputs": [],
   "source": [
    "sample = flechas[0].copy()\n",
    "\n",
    "contours, ellipse, lkeyp, dess = extract_features(sample)\n",
    "\n",
    "for cont in contours:\n",
    "\tcv2.drawContours(sample, cont, -1, (np.random.randint(0, 255), np.random.randint(0, 255), 0), 3)\n",
    "\n",
    "cv2.ellipse(sample, ellipse, (255, 0, 0), 3)\n",
    "cv2.drawKeypoints(sample, lkeyp, sample, (0, 255, 0), cv2.DRAW_MATCHES_FLAGS_DRAW_RICH_KEYPOINTS)\n",
    "cv2.imshow('sample', sample)\n",
    "cv2.waitKey(0)\n",
    "cv2.destroyAllWindows()"
   ],
   "metadata": {
    "collapsed": false,
    "pycharm": {
     "name": "#%%\n"
    }
   }
  },
  {
   "cell_type": "code",
   "execution_count": 6,
   "outputs": [],
   "source": [
    "columns = ['area', 'momentx', 'momenty', 'label', 'm00', 'm10', 'm01', 'm20', 'm11', 'm02', 'm30', 'm21', 'm12', 'm03',\n",
    "           'mu20', 'mu11', 'mu02', 'mu30', 'mu21', 'mu12', 'mu03', 'nu20', 'nu11', 'nu02', 'nu30', 'nu21', 'nu12',\n",
    "           'nu03']\n",
    "df = pd.DataFrame(columns=columns)\n",
    "\n",
    "for arrow in flechas:\n",
    "\tcontours, ellipse, lkeyp, dess = extract_features(arrow.copy())\n",
    "\tM_1 = cv2.moments(contours[0])\n",
    "\n",
    "\tif M_1[\"m00\"] == 0: M_1[\"m00\", \"m01\"] = 1\n",
    "\tx = int(M_1[\"m10\"] / M_1[\"m00\"])\n",
    "\ty = int(M_1[\"m01\"] / M_1[\"m00\"])\n",
    "\tdata = {'momentx': x, 'momenty': y, 'area': cv2.contourArea(contours[0]), 'label': 0}\n",
    "\tdata.update(M_1)\n",
    "\tdf = df.append(data, ignore_index=True)\n",
    "\n",
    "for m in man:\n",
    "\tcontours, ellipse, lkeyp, dess = extract_features(m)\n",
    "\tM_1 = cv2.moments(contours[0])\n",
    "\tif M_1[\"m00\"] == 0: M_1[\"m00\", \"m01\"] = 1\n",
    "\tx = int(M_1[\"m10\"] / M_1[\"m00\"])\n",
    "\ty = int(M_1[\"m01\"] / M_1[\"m00\"])\n",
    "\tdata = {'momentx': x, 'momenty': y, 'area': cv2.contourArea(contours[0]), 'label': 1}\n",
    "\tdata.update(M_1)\n",
    "\tdf = df.append(data, ignore_index=True)\n",
    "\n",
    "for stair in stairs:\n",
    "\tcontours, ellipse, lkeyp, dess = extract_features(stair)\n",
    "\tM_1 = cv2.moments(contours[0])\n",
    "\tif M_1[\"m00\"] == 0: M_1[\"m00\", \"m01\"] = 1\n",
    "\tx = int(M_1[\"m10\"] / M_1[\"m00\"])\n",
    "\ty = int(M_1[\"m01\"] / M_1[\"m00\"])\n",
    "\tdata = {'momentx': x, 'momenty': y, 'area': cv2.contourArea(contours[0]), 'label': 2}\n",
    "\tdata.update(M_1)\n",
    "\tdf = df.append(data, ignore_index=True)\n",
    "\n",
    "for t in telephone:\n",
    "\tcontours, ellipse, lkeyp, dess = extract_features(t)\n",
    "\tM_1 = cv2.moments(contours[0])\n",
    "\tif M_1[\"m00\"] == 0: M_1[\"m00\", \"m01\"] = 1\n",
    "\tx = int(M_1[\"m10\"] / M_1[\"m00\"])\n",
    "\ty = int(M_1[\"m01\"] / M_1[\"m00\"])\n",
    "\tdata = {'momentx': x, 'momenty': y, 'area': cv2.contourArea(contours[0]), 'label': 3}\n",
    "\tdata.update(M_1)\n",
    "\tdf = df.append(data, ignore_index=True)\n",
    "\n",
    "for w in woman:\n",
    "\tcontours, ellipse, lkeyp, dess = extract_features(w)\n",
    "\tM_1 = cv2.moments(contours[0])\n",
    "\tif M_1[\"m00\"] == 0: M_1[\"m00\", \"m01\"] = 1\n",
    "\tx = int(M_1[\"m10\"] / M_1[\"m00\"])\n",
    "\ty = int(M_1[\"m01\"] / M_1[\"m00\"])\n",
    "\tdata = {'momentx': x, 'momenty': y, 'area': cv2.contourArea(contours[0]), 'label': 4}\n",
    "\tdata.update(M_1)\n",
    "\tdf = df.append(data, ignore_index=True)"
   ],
   "metadata": {
    "collapsed": false,
    "pycharm": {
     "name": "#%%\n"
    }
   }
  },
  {
   "cell_type": "code",
   "execution_count": 7,
   "outputs": [
    {
     "data": {
      "text/plain": "              area     momentx     momenty      label          m00  \\\ncount    32.000000   32.000000   32.000000  32.000000    32.000000   \nmean   2857.656250  282.593750  201.593750   2.187500  2857.656250   \nstd    2070.446252  140.124106   83.851197   1.354503  2070.446252   \nmin     199.000000   84.000000   63.000000   0.000000   199.000000   \n25%    1117.000000  157.750000  139.750000   1.000000  1117.000000   \n50%    2422.000000  263.000000  193.000000   2.000000  2422.000000   \n75%    4283.750000  388.000000  273.250000   3.000000  4283.750000   \nmax    8085.500000  534.000000  344.000000   4.000000  8085.500000   \n\n                m10           m01           m20           m11           m02  \\\ncount  3.200000e+01  3.200000e+01  3.200000e+01  3.200000e+01  3.200000e+01   \nmean   8.876964e+05  6.951191e+05  3.324249e+08  2.271086e+08  1.869751e+08   \nstd    8.858479e+05  7.036689e+05  4.283989e+08  2.771426e+08  2.361962e+08   \nmin    3.223467e+04  1.635867e+04  4.727332e+06  2.651370e+06  1.406871e+06   \n25%    2.667534e+05  1.877481e+05  3.896159e+07  4.413326e+07  4.080131e+07   \n50%    5.028213e+05  4.337213e+05  1.245947e+08  1.034824e+08  8.403893e+07   \n75%    1.474020e+06  1.032961e+06  4.810383e+08  3.435361e+08  2.476583e+08   \nmax    3.416661e+06  2.763516e+06  1.767303e+09  1.099436e+09  9.552476e+08   \n\n       ...          mu21          mu12          mu03       nu20       nu11  \\\ncount  ...  3.200000e+01  3.200000e+01  3.200000e+01  32.000000  32.000000   \nmean   ... -6.536763e+06 -1.352379e+06  1.369597e+07   0.184621  -0.001310   \nstd    ...  3.121140e+07  1.626184e+07  3.569381e+07   0.188053   0.210676   \nmin    ... -1.282677e+08 -5.800254e+07 -2.969711e+07   0.025802  -0.850650   \n25%    ... -1.226389e+06 -2.044573e+06 -7.091393e+05   0.074954  -0.094131   \n50%    ...  9.851255e+04 -1.470404e+04  1.499999e+06   0.144233   0.009030   \n75%    ...  1.490326e+06  1.776654e+06  1.191353e+07   0.223024   0.123999   \nmax    ...  3.065863e+07  3.603446e+07  1.466715e+08   1.011823   0.497413   \n\n            nu02       nu30       nu21       nu12       nu03  \ncount  32.000000  32.000000  32.000000  32.000000  32.000000  \nmean    0.428201   0.005652  -0.001127   0.000615  -0.046607  \nstd     0.525019   0.065687   0.028391   0.031563   0.134970  \nmin     0.025224  -0.073925  -0.100359  -0.080402  -0.408808  \n25%     0.149522  -0.012984  -0.004736  -0.009929  -0.028957  \n50%     0.180079  -0.000544   0.001522  -0.000963   0.007107  \n75%     0.274381   0.003980   0.012184   0.011802   0.018213  \nmax     1.618738   0.298467   0.081839   0.085821   0.200543  \n\n[8 rows x 28 columns]",
      "text/html": "<div>\n<style scoped>\n    .dataframe tbody tr th:only-of-type {\n        vertical-align: middle;\n    }\n\n    .dataframe tbody tr th {\n        vertical-align: top;\n    }\n\n    .dataframe thead th {\n        text-align: right;\n    }\n</style>\n<table border=\"1\" class=\"dataframe\">\n  <thead>\n    <tr style=\"text-align: right;\">\n      <th></th>\n      <th>area</th>\n      <th>momentx</th>\n      <th>momenty</th>\n      <th>label</th>\n      <th>m00</th>\n      <th>m10</th>\n      <th>m01</th>\n      <th>m20</th>\n      <th>m11</th>\n      <th>m02</th>\n      <th>...</th>\n      <th>mu21</th>\n      <th>mu12</th>\n      <th>mu03</th>\n      <th>nu20</th>\n      <th>nu11</th>\n      <th>nu02</th>\n      <th>nu30</th>\n      <th>nu21</th>\n      <th>nu12</th>\n      <th>nu03</th>\n    </tr>\n  </thead>\n  <tbody>\n    <tr>\n      <th>count</th>\n      <td>32.000000</td>\n      <td>32.000000</td>\n      <td>32.000000</td>\n      <td>32.000000</td>\n      <td>32.000000</td>\n      <td>3.200000e+01</td>\n      <td>3.200000e+01</td>\n      <td>3.200000e+01</td>\n      <td>3.200000e+01</td>\n      <td>3.200000e+01</td>\n      <td>...</td>\n      <td>3.200000e+01</td>\n      <td>3.200000e+01</td>\n      <td>3.200000e+01</td>\n      <td>32.000000</td>\n      <td>32.000000</td>\n      <td>32.000000</td>\n      <td>32.000000</td>\n      <td>32.000000</td>\n      <td>32.000000</td>\n      <td>32.000000</td>\n    </tr>\n    <tr>\n      <th>mean</th>\n      <td>2857.656250</td>\n      <td>282.593750</td>\n      <td>201.593750</td>\n      <td>2.187500</td>\n      <td>2857.656250</td>\n      <td>8.876964e+05</td>\n      <td>6.951191e+05</td>\n      <td>3.324249e+08</td>\n      <td>2.271086e+08</td>\n      <td>1.869751e+08</td>\n      <td>...</td>\n      <td>-6.536763e+06</td>\n      <td>-1.352379e+06</td>\n      <td>1.369597e+07</td>\n      <td>0.184621</td>\n      <td>-0.001310</td>\n      <td>0.428201</td>\n      <td>0.005652</td>\n      <td>-0.001127</td>\n      <td>0.000615</td>\n      <td>-0.046607</td>\n    </tr>\n    <tr>\n      <th>std</th>\n      <td>2070.446252</td>\n      <td>140.124106</td>\n      <td>83.851197</td>\n      <td>1.354503</td>\n      <td>2070.446252</td>\n      <td>8.858479e+05</td>\n      <td>7.036689e+05</td>\n      <td>4.283989e+08</td>\n      <td>2.771426e+08</td>\n      <td>2.361962e+08</td>\n      <td>...</td>\n      <td>3.121140e+07</td>\n      <td>1.626184e+07</td>\n      <td>3.569381e+07</td>\n      <td>0.188053</td>\n      <td>0.210676</td>\n      <td>0.525019</td>\n      <td>0.065687</td>\n      <td>0.028391</td>\n      <td>0.031563</td>\n      <td>0.134970</td>\n    </tr>\n    <tr>\n      <th>min</th>\n      <td>199.000000</td>\n      <td>84.000000</td>\n      <td>63.000000</td>\n      <td>0.000000</td>\n      <td>199.000000</td>\n      <td>3.223467e+04</td>\n      <td>1.635867e+04</td>\n      <td>4.727332e+06</td>\n      <td>2.651370e+06</td>\n      <td>1.406871e+06</td>\n      <td>...</td>\n      <td>-1.282677e+08</td>\n      <td>-5.800254e+07</td>\n      <td>-2.969711e+07</td>\n      <td>0.025802</td>\n      <td>-0.850650</td>\n      <td>0.025224</td>\n      <td>-0.073925</td>\n      <td>-0.100359</td>\n      <td>-0.080402</td>\n      <td>-0.408808</td>\n    </tr>\n    <tr>\n      <th>25%</th>\n      <td>1117.000000</td>\n      <td>157.750000</td>\n      <td>139.750000</td>\n      <td>1.000000</td>\n      <td>1117.000000</td>\n      <td>2.667534e+05</td>\n      <td>1.877481e+05</td>\n      <td>3.896159e+07</td>\n      <td>4.413326e+07</td>\n      <td>4.080131e+07</td>\n      <td>...</td>\n      <td>-1.226389e+06</td>\n      <td>-2.044573e+06</td>\n      <td>-7.091393e+05</td>\n      <td>0.074954</td>\n      <td>-0.094131</td>\n      <td>0.149522</td>\n      <td>-0.012984</td>\n      <td>-0.004736</td>\n      <td>-0.009929</td>\n      <td>-0.028957</td>\n    </tr>\n    <tr>\n      <th>50%</th>\n      <td>2422.000000</td>\n      <td>263.000000</td>\n      <td>193.000000</td>\n      <td>2.000000</td>\n      <td>2422.000000</td>\n      <td>5.028213e+05</td>\n      <td>4.337213e+05</td>\n      <td>1.245947e+08</td>\n      <td>1.034824e+08</td>\n      <td>8.403893e+07</td>\n      <td>...</td>\n      <td>9.851255e+04</td>\n      <td>-1.470404e+04</td>\n      <td>1.499999e+06</td>\n      <td>0.144233</td>\n      <td>0.009030</td>\n      <td>0.180079</td>\n      <td>-0.000544</td>\n      <td>0.001522</td>\n      <td>-0.000963</td>\n      <td>0.007107</td>\n    </tr>\n    <tr>\n      <th>75%</th>\n      <td>4283.750000</td>\n      <td>388.000000</td>\n      <td>273.250000</td>\n      <td>3.000000</td>\n      <td>4283.750000</td>\n      <td>1.474020e+06</td>\n      <td>1.032961e+06</td>\n      <td>4.810383e+08</td>\n      <td>3.435361e+08</td>\n      <td>2.476583e+08</td>\n      <td>...</td>\n      <td>1.490326e+06</td>\n      <td>1.776654e+06</td>\n      <td>1.191353e+07</td>\n      <td>0.223024</td>\n      <td>0.123999</td>\n      <td>0.274381</td>\n      <td>0.003980</td>\n      <td>0.012184</td>\n      <td>0.011802</td>\n      <td>0.018213</td>\n    </tr>\n    <tr>\n      <th>max</th>\n      <td>8085.500000</td>\n      <td>534.000000</td>\n      <td>344.000000</td>\n      <td>4.000000</td>\n      <td>8085.500000</td>\n      <td>3.416661e+06</td>\n      <td>2.763516e+06</td>\n      <td>1.767303e+09</td>\n      <td>1.099436e+09</td>\n      <td>9.552476e+08</td>\n      <td>...</td>\n      <td>3.065863e+07</td>\n      <td>3.603446e+07</td>\n      <td>1.466715e+08</td>\n      <td>1.011823</td>\n      <td>0.497413</td>\n      <td>1.618738</td>\n      <td>0.298467</td>\n      <td>0.081839</td>\n      <td>0.085821</td>\n      <td>0.200543</td>\n    </tr>\n  </tbody>\n</table>\n<p>8 rows × 28 columns</p>\n</div>"
     },
     "execution_count": 7,
     "metadata": {},
     "output_type": "execute_result"
    }
   ],
   "source": [
    "df.describe()"
   ],
   "metadata": {
    "collapsed": false,
    "pycharm": {
     "name": "#%%\n"
    }
   }
  },
  {
   "cell_type": "code",
   "execution_count": 10,
   "outputs": [
    {
     "data": {
      "text/plain": "DecisionTreeClassifier()"
     },
     "execution_count": 10,
     "metadata": {},
     "output_type": "execute_result"
    }
   ],
   "source": [
    "from sklearn.tree import DecisionTreeClassifier\n",
    "\n",
    "clf = DecisionTreeClassifier()\n",
    "clf.fit(df.drop(columns=['label']), df['label'])"
   ],
   "metadata": {
    "collapsed": false,
    "pycharm": {
     "name": "#%%\n"
    }
   }
  },
  {
   "cell_type": "code",
   "execution_count": 11,
   "outputs": [
    {
     "data": {
      "text/plain": "['rec_marcas_model.jl']"
     },
     "execution_count": 11,
     "metadata": {},
     "output_type": "execute_result"
    }
   ],
   "source": [
    "import joblib\n",
    "\n",
    "joblib.dump(clf, 'rec_marcas_model.jl')"
   ],
   "metadata": {
    "collapsed": false,
    "pycharm": {
     "name": "#%%\n"
    }
   }
  },
  {
   "cell_type": "code",
   "execution_count": 10,
   "outputs": [
    {
     "name": "stdout",
     "output_type": "stream",
     "text": [
      "man\n",
      "man\n",
      "man\n",
      "man\n",
      "man\n",
      "man\n",
      "man\n",
      "man\n",
      "man\n",
      "man\n",
      "man\n",
      "man\n",
      "woman\n",
      "woman\n",
      "flecha\n",
      "woman\n",
      "woman\n",
      "woman\n",
      "flecha\n",
      "flecha\n",
      "flecha\n",
      "flecha\n",
      "flecha\n",
      "flecha\n",
      "flecha\n",
      "flecha\n",
      "flecha\n",
      "flecha\n",
      "flecha\n",
      "flecha\n",
      "flecha\n",
      "flecha\n",
      "flecha\n",
      "flecha\n",
      "flecha\n",
      "flecha\n",
      "flecha\n",
      "flecha\n",
      "flecha\n",
      "flecha\n",
      "flecha\n",
      "flecha\n",
      "flecha\n",
      "flecha\n",
      "flecha\n",
      "flecha\n",
      "flecha\n",
      "flecha\n",
      "flecha\n",
      "flecha\n",
      "flecha\n",
      "flecha\n",
      "flecha\n",
      "flecha\n",
      "flecha\n",
      "flecha\n",
      "flecha\n",
      "flecha\n",
      "flecha\n",
      "flecha\n",
      "flecha\n",
      "flecha\n",
      "flecha\n",
      "flecha\n",
      "woman\n",
      "flecha\n",
      "flecha\n",
      "flecha\n",
      "flecha\n",
      "flecha\n",
      "flecha\n",
      "flecha\n",
      "flecha\n",
      "flecha\n",
      "flecha\n",
      "flecha\n",
      "flecha\n",
      "flecha\n",
      "flecha\n",
      "flecha\n",
      "flecha\n",
      "flecha\n",
      "flecha\n",
      "flecha\n",
      "flecha\n",
      "flecha\n",
      "flecha\n",
      "flecha\n",
      "flecha\n",
      "flecha\n",
      "flecha\n",
      "flecha\n",
      "flecha\n",
      "flecha\n",
      "flecha\n",
      "flecha\n",
      "woman\n",
      "woman\n",
      "flecha\n",
      "flecha\n",
      "flecha\n",
      "flecha\n",
      "flecha\n",
      "flecha\n",
      "flecha\n",
      "flecha\n",
      "flecha\n",
      "flecha\n",
      "flecha\n",
      "telephone\n",
      "telephone\n",
      "telephone\n",
      "telephone\n",
      "telephone\n",
      "telephone\n",
      "telephone\n",
      "telephone\n",
      "telephone\n",
      "telephone\n",
      "telephone\n",
      "telephone\n",
      "man\n",
      "man\n",
      "flecha\n",
      "flecha\n",
      "flecha\n",
      "flecha\n",
      "flecha\n",
      "flecha\n",
      "flecha\n",
      "flecha\n",
      "flecha\n",
      "flecha\n",
      "flecha\n",
      "stair\n",
      "stair\n",
      "stair\n",
      "stair\n",
      "stair\n",
      "stair\n",
      "stair\n",
      "stair\n",
      "stair\n",
      "stair\n",
      "stair\n",
      "stair\n",
      "stair\n",
      "stair\n",
      "stair\n",
      "stair\n",
      "stair\n",
      "stair\n",
      "flecha\n",
      "flecha\n",
      "flecha\n",
      "flecha\n",
      "flecha\n",
      "flecha\n",
      "flecha\n",
      "flecha\n",
      "flecha\n",
      "flecha\n",
      "flecha\n",
      "flecha\n",
      "flecha\n",
      "flecha\n",
      "flecha\n",
      "flecha\n",
      "flecha\n",
      "woman\n",
      "woman\n",
      "man\n",
      "man\n",
      "flecha\n",
      "flecha\n",
      "flecha\n",
      "flecha\n",
      "flecha\n",
      "woman\n",
      "woman\n",
      "woman\n",
      "woman\n",
      "woman\n",
      "woman\n",
      "woman\n",
      "woman\n",
      "woman\n",
      "woman\n",
      "man\n",
      "flecha\n"
     ]
    },
    {
     "ename": "AttributeError",
     "evalue": "'NoneType' object has no attribute 'copy'",
     "output_type": "error",
     "traceback": [
      "\u001B[0;31m---------------------------------------------------------------------------\u001B[0m",
      "\u001B[0;31mAttributeError\u001B[0m                            Traceback (most recent call last)",
      "\u001B[0;32m/var/folders/l0/10bsjl7139x2skb95m9bvghr0000gn/T/ipykernel_26920/2771914997.py\u001B[0m in \u001B[0;36m<module>\u001B[0;34m\u001B[0m\n\u001B[1;32m      9\u001B[0m \u001B[0;32mwhile\u001B[0m \u001B[0;32mTrue\u001B[0m\u001B[0;34m:\u001B[0m\u001B[0;34m\u001B[0m\u001B[0;34m\u001B[0m\u001B[0m\n\u001B[1;32m     10\u001B[0m         \u001B[0mframeo\u001B[0m \u001B[0;34m=\u001B[0m \u001B[0mvid\u001B[0m\u001B[0;34m.\u001B[0m\u001B[0mread\u001B[0m\u001B[0;34m(\u001B[0m\u001B[0;34m)\u001B[0m\u001B[0;34m[\u001B[0m\u001B[0;36m1\u001B[0m\u001B[0;34m]\u001B[0m\u001B[0;34m\u001B[0m\u001B[0;34m\u001B[0m\u001B[0m\n\u001B[0;32m---> 11\u001B[0;31m         \u001B[0mframe\u001B[0m \u001B[0;34m=\u001B[0m \u001B[0mframeo\u001B[0m\u001B[0;34m.\u001B[0m\u001B[0mcopy\u001B[0m\u001B[0;34m(\u001B[0m\u001B[0;34m)\u001B[0m\u001B[0;34m\u001B[0m\u001B[0;34m\u001B[0m\u001B[0m\n\u001B[0m\u001B[1;32m     12\u001B[0m         \u001B[0mmaskframe\u001B[0m \u001B[0;34m=\u001B[0m \u001B[0mcv2\u001B[0m\u001B[0;34m.\u001B[0m\u001B[0minRange\u001B[0m\u001B[0;34m(\u001B[0m\u001B[0mframe\u001B[0m\u001B[0;34m,\u001B[0m \u001B[0;34m(\u001B[0m\u001B[0;36m0\u001B[0m\u001B[0;34m,\u001B[0m \u001B[0;36m0\u001B[0m\u001B[0;34m,\u001B[0m \u001B[0;36m100\u001B[0m\u001B[0;34m)\u001B[0m\u001B[0;34m,\u001B[0m \u001B[0;34m(\u001B[0m\u001B[0;36m50\u001B[0m\u001B[0;34m,\u001B[0m \u001B[0;36m50\u001B[0m\u001B[0;34m,\u001B[0m \u001B[0;36m255\u001B[0m\u001B[0;34m)\u001B[0m\u001B[0;34m)\u001B[0m\u001B[0;34m\u001B[0m\u001B[0;34m\u001B[0m\u001B[0m\n\u001B[1;32m     13\u001B[0m         \u001B[0mframe\u001B[0m\u001B[0;34m[\u001B[0m\u001B[0mmaskframe\u001B[0m \u001B[0;34m==\u001B[0m \u001B[0;36m0\u001B[0m\u001B[0;34m]\u001B[0m \u001B[0;34m=\u001B[0m \u001B[0;34m[\u001B[0m\u001B[0;36m255\u001B[0m\u001B[0;34m,\u001B[0m \u001B[0;36m255\u001B[0m\u001B[0;34m,\u001B[0m \u001B[0;36m255\u001B[0m\u001B[0;34m]\u001B[0m\u001B[0;34m\u001B[0m\u001B[0;34m\u001B[0m\u001B[0m\n",
      "\u001B[0;31mAttributeError\u001B[0m: 'NoneType' object has no attribute 'copy'"
     ]
    }
   ],
   "source": [
    "vid = cv2.VideoCapture('proyectoRobotica-1920-line1-video-2020-04-20.avi')\n",
    "lables = ['flecha', 'man', 'stair', 'telephone', 'woman']\n",
    "\n",
    "width = int(vid.get(cv2.CAP_PROP_FRAME_WIDTH))\n",
    "height =  int(vid.get(cv2.CAP_PROP_FRAME_HEIGHT))\n",
    "fourcc = cv2.VideoWriter_fourcc(*'mp4v')\n",
    "video = cv2.VideoWriter('videoMarcas.avi', fourcc, 30, (width, height))\n",
    "\n",
    "while True:\n",
    "\tframeo = vid.read()[1]\n",
    "\tframe = frameo.copy()\n",
    "\tmaskframe = cv2.inRange(frame, (0, 0, 100), (50, 50, 255))\n",
    "\tframe[maskframe == 0] = [255, 255, 255]\n",
    "\n",
    "\ttry:\n",
    "\t\tcontours, ellipse, lkeyp, dess = extract_features(frame)\n",
    "\t\tif len(contours) != 1:\n",
    "\t\t\tcontours = contours[0] if cv2.contourArea(contours[0]) > cv2.contourArea(contours[1]) else contours[1]\n",
    "\t\tM_1 = cv2.moments(contours[0])\n",
    "\n",
    "\t\tif M_1[\"m00\"] == 0: M_1[\"m00\", \"m01\"] = 1\n",
    "\t\tx = int(M_1[\"m10\"] / M_1[\"m00\"])\n",
    "\t\ty = int(M_1[\"m01\"] / M_1[\"m00\"])\n",
    "\t\tdata = {'momentx': x, 'momenty': y, 'area': cv2.contourArea(contours[0])}\n",
    "\t\tdata.update(M_1)\n",
    "\t\todf = pd.DataFrame(columns=columns)\n",
    "\t\todf.drop(columns=['label'], inplace=True)\n",
    "\t\todf = odf.append(data, ignore_index=True)\n",
    "\t\tpredicted = clf.predict(odf)\n",
    "\t\tcv2.putText(frame, lables[int(predicted)], (30, 50), cv2.FONT_HERSHEY_SIMPLEX, 1, (0, 0, 255), 2)\n",
    "\t\tcv2.putText(frameo, lables[int(predicted)], (30, 50), cv2.FONT_HERSHEY_SIMPLEX, 1, (0, 0, 255), 2)\n",
    "\t\t# print(lables[int(predicted)])\n",
    "\texcept IndexError as e:\n",
    "\t\tcv2.putText(frameo, 'Nothing', (30, 50), cv2.FONT_HERSHEY_SIMPLEX, 1, (0, 0, 255), 2)\n",
    "\texcept Exception as e:\n",
    "\t\tcv2.putText(frameo, 'Nothing', (30, 50), cv2.FONT_HERSHEY_SIMPLEX, 1, (0, 0, 255), 2)\n",
    "\n",
    "\tcv2.imshow('frameo', frameo)\n",
    "\tcv2.imshow('frame', frame)\n",
    "\n",
    "\tvideo.write(np.uint8(frameo))\n",
    "\tvideo.write(np.uint8(frameo))\n",
    "\tvideo.write(np.uint8(frameo))\n",
    "\n",
    "\tcv2.destroyAllWindows()\n",
    "\n",
    "\tif cv2.waitKey(55) & 0xFF == ord('q'):\n",
    "\t\tbreak\n",
    "\n",
    "video.release()\n",
    "cv2.destroyAllWindows()"
   ],
   "metadata": {
    "collapsed": false,
    "pycharm": {
     "name": "#%%\n"
    }
   }
  },
  {
   "cell_type": "code",
   "execution_count": null,
   "outputs": [],
   "source": [],
   "metadata": {
    "collapsed": false,
    "pycharm": {
     "name": "#%%\n"
    }
   }
  }
 ],
 "metadata": {
  "kernelspec": {
   "display_name": "Python 3",
   "language": "python",
   "name": "python3"
  },
  "language_info": {
   "codemirror_mode": {
    "name": "ipython",
    "version": 2
   },
   "file_extension": ".py",
   "mimetype": "text/x-python",
   "name": "python",
   "nbconvert_exporter": "python",
   "pygments_lexer": "ipython2",
   "version": "2.7.6"
  }
 },
 "nbformat": 4,
 "nbformat_minor": 0
}