{
 "cells": [
  {
   "cell_type": "code",
   "execution_count": 1,
   "metadata": {
    "collapsed": true,
    "pycharm": {
     "name": "#%%\n"
    }
   },
   "outputs": [],
   "source": [
    "import joblib\n",
    "import numpy as np\n",
    "\n"
   ]
  },
  {
   "cell_type": "code",
   "execution_count": 2,
   "outputs": [],
   "source": [
    "import Percepcion as p\n",
    "perceptor = p.Percepcion()"
   ],
   "metadata": {
    "collapsed": false,
    "pycharm": {
     "name": "#%%\n"
    }
   }
  },
  {
   "cell_type": "code",
   "execution_count": 3,
   "outputs": [
    {
     "name": "stdout",
     "output_type": "stream",
     "text": [
      "processed\n",
      "[[[255. 255. 255.]\n",
      "  [255. 255. 255.]\n",
      "  [255.   0.   0.]\n",
      "  ...\n",
      "  [255.   0.   0.]\n",
      "  [255. 255. 255.]\n",
      "  [255. 255. 255.]]\n",
      "\n",
      " [[255. 255. 255.]\n",
      "  [255.   0.   0.]\n",
      "  [255. 255. 255.]\n",
      "  ...\n",
      "  [255. 255. 255.]\n",
      "  [255.   0.   0.]\n",
      "  [255. 255. 255.]]\n",
      "\n",
      " [[255.   0.   0.]\n",
      "  [255. 255. 255.]\n",
      "  [255. 255. 255.]\n",
      "  ...\n",
      "  [255. 255. 255.]\n",
      "  [255. 255. 255.]\n",
      "  [255.   0.   0.]]\n",
      "\n",
      " ...\n",
      "\n",
      " [[255.   0.   0.]\n",
      "  [255.   0.   0.]\n",
      "  [255. 255. 255.]\n",
      "  ...\n",
      "  [255. 255. 255.]\n",
      "  [255.   0.   0.]\n",
      "  [255.   0.   0.]]\n",
      "\n",
      " [[255.   0.   0.]\n",
      "  [255.   0.   0.]\n",
      "  [255.   0.   0.]\n",
      "  ...\n",
      "  [255.   0.   0.]\n",
      "  [255.   0.   0.]\n",
      "  [255.   0.   0.]]\n",
      "\n",
      " [[255. 255. 255.]\n",
      "  [255.   0.   0.]\n",
      "  [255.   0.   0.]\n",
      "  ...\n",
      "  [255.   0.   0.]\n",
      "  [255.   0.   0.]\n",
      "  [255. 255. 255.]]]\n"
     ]
    },
    {
     "data": {
      "text/plain": "-1"
     },
     "execution_count": 3,
     "metadata": {},
     "output_type": "execute_result"
    }
   ],
   "source": [
    "import cv2\n",
    "\n",
    "img = cv2.imread(\"images/man-2.png\")\n",
    "segmented = perceptor.procesarimagen(img)\n",
    "print(\"processed\")\n",
    "\n",
    "\n",
    "p = np.where(img == 255, img, segmented)\n",
    "print(p)\n",
    "cv2.imshow(\"segmented\", p)\n",
    "cv2.waitKey(1)"
   ],
   "metadata": {
    "collapsed": false,
    "pycharm": {
     "name": "#%%\n"
    }
   }
  },
  {
   "cell_type": "code",
   "execution_count": null,
   "outputs": [],
   "source": [],
   "metadata": {
    "collapsed": false,
    "pycharm": {
     "name": "#%%\n"
    }
   }
  }
 ],
 "metadata": {
  "kernelspec": {
   "display_name": "Python 3",
   "language": "python",
   "name": "python3"
  },
  "language_info": {
   "codemirror_mode": {
    "name": "ipython",
    "version": 2
   },
   "file_extension": ".py",
   "mimetype": "text/x-python",
   "name": "python",
   "nbconvert_exporter": "python",
   "pygments_lexer": "ipython2",
   "version": "2.7.6"
  }
 },
 "nbformat": 4,
 "nbformat_minor": 0
}